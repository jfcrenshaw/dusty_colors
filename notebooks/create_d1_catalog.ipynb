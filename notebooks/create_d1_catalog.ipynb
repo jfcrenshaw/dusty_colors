{
 "cells": [
  {
   "cell_type": "markdown",
   "id": "53b2a365-0414-48e2-af72-2afa33136c56",
   "metadata": {},
   "source": [
    "#### *THIS NOTEBOOK MEANT TO RUN ON RSP*\n",
    "\n",
    "This notebook loads cModel and GaaP photometry for all \"extended\" DP1 objects that have SNR > 10 in the $i$ band and fainter than 20th mag. The fluxes are de-reddened using the SFD map, and then cross-matched with photo-z's using the object IDs."
   ]
  },
  {
   "cell_type": "code",
   "execution_count": null,
   "id": "2e0682b3-bec2-4439-8027-2db1c2a71fd4",
   "metadata": {
    "execution": {
     "iopub.execute_input": "2025-07-01T20:42:38.200629Z",
     "iopub.status.busy": "2025-07-01T20:42:38.200305Z",
     "iopub.status.idle": "2025-07-01T20:42:38.205148Z",
     "shell.execute_reply": "2025-07-01T20:42:38.204525Z",
     "shell.execute_reply.started": "2025-07-01T20:42:38.200608Z"
    }
   },
   "outputs": [],
   "source": [
    "pwd"
   ]
  },
  {
   "cell_type": "markdown",
   "id": "80d4f60d-3292-4cb5-8c38-592e1f123dde",
   "metadata": {},
   "source": [
    "### 1. Imports"
   ]
  },
  {
   "cell_type": "code",
   "execution_count": null,
   "id": "4651181d-9266-4355-a7e7-9992bade92eb",
   "metadata": {
    "execution": {
     "iopub.execute_input": "2025-07-02T17:54:00.481712Z",
     "iopub.status.busy": "2025-07-02T17:54:00.481449Z",
     "iopub.status.idle": "2025-07-02T17:54:00.484755Z",
     "shell.execute_reply": "2025-07-02T17:54:00.484179Z",
     "shell.execute_reply.started": "2025-07-02T17:54:00.481693Z"
    }
   },
   "outputs": [],
   "source": [
    "import numpy as np\n",
    "import matplotlib.pyplot as plt\n",
    "from astropy.table import Table, join\n",
    "\n",
    "from lsst.rsp import get_tap_service"
   ]
  },
  {
   "cell_type": "markdown",
   "id": "35019eef-2951-4394-9ddb-88b1228b6b08",
   "metadata": {},
   "source": [
    "### 2. Query galaxies from the TAP"
   ]
  },
  {
   "cell_type": "code",
   "execution_count": null,
   "id": "9370adc5-c528-442e-8e6c-be5f388b2467",
   "metadata": {
    "execution": {
     "iopub.execute_input": "2025-07-02T17:54:01.204943Z",
     "iopub.status.busy": "2025-07-02T17:54:01.204692Z",
     "iopub.status.idle": "2025-07-02T17:54:01.245384Z",
     "shell.execute_reply": "2025-07-02T17:54:01.244826Z",
     "shell.execute_reply.started": "2025-07-02T17:54:01.204925Z"
    }
   },
   "outputs": [],
   "source": [
    "service = get_tap_service(\"tap\")"
   ]
  },
  {
   "cell_type": "code",
   "execution_count": null,
   "id": "0b8ba520-5b80-4f09-9fe6-5e688ff4c5cc",
   "metadata": {
    "execution": {
     "iopub.execute_input": "2025-07-02T19:00:17.330847Z",
     "iopub.status.busy": "2025-07-02T19:00:17.330561Z",
     "iopub.status.idle": "2025-07-02T19:00:17.334191Z",
     "shell.execute_reply": "2025-07-02T19:00:17.333674Z",
     "shell.execute_reply.started": "2025-07-02T19:00:17.330829Z"
    }
   },
   "outputs": [],
   "source": [
    "query = \"\"\"\n",
    "SELECT\n",
    "    obj.objectID,\n",
    "    obj.coord_ra,\n",
    "    obj.coord_dec,\n",
    "    obj.u_cModelFlux,\n",
    "    obj.u_cModelFluxErr,\n",
    "    obj.g_cModelFlux,\n",
    "    obj.g_cModelFluxErr,\n",
    "    obj.r_cModelFlux,\n",
    "    obj.r_cModelFluxErr,\n",
    "    obj.i_cModelFlux,\n",
    "    obj.i_cModelFluxErr,\n",
    "    obj.z_cModelFlux,\n",
    "    obj.z_cModelFluxErr,\n",
    "    obj.y_cModelFlux,\n",
    "    obj.y_cModelFluxErr,\n",
    "    obj.u_gaap1p0Flux,\n",
    "    obj.u_gaap1p0FluxErr,\n",
    "    obj.g_gaap1p0Flux,\n",
    "    obj.g_gaap1p0FluxErr,\n",
    "    obj.r_gaap1p0Flux,\n",
    "    obj.r_gaap1p0FluxErr,\n",
    "    obj.i_gaap1p0Flux,\n",
    "    obj.i_gaap1p0FluxErr,\n",
    "    obj.z_gaap1p0Flux,\n",
    "    obj.z_gaap1p0FluxErr,\n",
    "    obj.y_gaap1p0Flux,\n",
    "    obj.y_gaap1p0FluxErr,\n",
    "    obj.ebv,\n",
    "    obj.i_hsmShapeRegauss_e1,\n",
    "    obj.i_hsmShapeRegauss_e2,\n",
    "    obj.i_hsmShapeRegauss_flag,\n",
    "    obj.i_hsmShapeRegauss_sigma,\n",
    "    obj.i_blendedness,\n",
    "    obj.i_iPSF_flag,\n",
    "    obj.i_ixxPSF,\n",
    "    obj.i_iyyPSF,\n",
    "    obj.i_ixx,\n",
    "    obj.i_iyy\n",
    "FROM dp1.Object AS obj\n",
    "WHERE\n",
    "    obj.i_cModelFlux / obj.i_cModelFluxErr > 10 AND\n",
    "    scisql_nanojanskyToAbMag(obj.i_cModelFlux) > 20 AND\n",
    "    obj.i_cModel_flag = 0 AND\n",
    "    obj.r_cModel_flag = 0 AND\n",
    "    obj.i_cModelFlux > 0 AND\n",
    "    obj.r_cModelFlux > 0 AND\n",
    "    obj.i_extendedness > 0.5 AND\n",
    "    obj.r_extendedness > 0.5\n",
    "\"\"\"\n",
    "# If you want to only select ECDFS\n",
    "# CONTAINS(POINT('ICRS', obj.coord_ra, obj.coord_dec), CIRCLE('ICRS', 53.1, -28.1, 0.75)) = 1"
   ]
  },
  {
   "cell_type": "code",
   "execution_count": null,
   "id": "1e27872f-5d9e-4161-8b2d-2342c640776e",
   "metadata": {
    "execution": {
     "iopub.execute_input": "2025-07-02T19:00:18.243039Z",
     "iopub.status.busy": "2025-07-02T19:00:18.242797Z",
     "iopub.status.idle": "2025-07-02T19:01:05.541692Z",
     "shell.execute_reply": "2025-07-02T19:01:05.541208Z",
     "shell.execute_reply.started": "2025-07-02T19:00:18.243024Z"
    }
   },
   "outputs": [],
   "source": [
    "job = service.submit_job(query)\n",
    "job.run()\n",
    "job.wait(phases=[\"COMPLETED\", \"ERROR\"])\n",
    "print(\"Job phase is\", job.phase)"
   ]
  },
  {
   "cell_type": "code",
   "execution_count": null,
   "id": "24579453-382d-4048-b504-3e2a1891cc33",
   "metadata": {
    "execution": {
     "iopub.execute_input": "2025-07-02T19:38:32.000415Z",
     "iopub.status.busy": "2025-07-02T19:38:32.000126Z",
     "iopub.status.idle": "2025-07-02T19:39:02.346488Z",
     "shell.execute_reply": "2025-07-02T19:39:02.345869Z",
     "shell.execute_reply.started": "2025-07-02T19:38:32.000378Z"
    }
   },
   "outputs": [],
   "source": [
    "results = job.fetch_result()\n",
    "cat = results.to_table()\n",
    "cat"
   ]
  },
  {
   "cell_type": "markdown",
   "id": "2ebb2aa6-81ff-4b20-b196-9e07de25bf45",
   "metadata": {},
   "source": [
    "### 3. Deredden the fluxes"
   ]
  },
  {
   "cell_type": "code",
   "execution_count": null,
   "id": "1d8b55c7-bc56-4170-a4c5-13ee08fc363a",
   "metadata": {
    "execution": {
     "iopub.execute_input": "2025-07-02T18:06:04.668563Z",
     "iopub.status.busy": "2025-07-02T18:06:04.668383Z",
     "iopub.status.idle": "2025-07-02T18:06:04.781187Z",
     "shell.execute_reply": "2025-07-02T18:06:04.780726Z",
     "shell.execute_reply.started": "2025-07-02T18:06:04.668549Z"
    }
   },
   "outputs": [],
   "source": [
    "# EBV coefficients\n",
    "band_a_ebv = dict(\n",
    "    u=4.81,\n",
    "    g=3.64,\n",
    "    r=2.70,\n",
    "    i=2.06,\n",
    "    z=1.58,\n",
    "    y=1.31,\n",
    ")\n",
    "\n",
    "for band in \"ugrizy\":\n",
    "    # Load the EBV coefficient\n",
    "    a_ebv = band_a_ebv[band]\n",
    "\n",
    "    # Loop over every flux type\n",
    "    for flux_type in [\"cModel\", \"gaap1p0\"]:\n",
    "        # Get the name of the column\n",
    "        col = f\"{band}_{flux_type}Flux\"\n",
    "\n",
    "        # De-redden\n",
    "        cat[col] = cat[col] * 10 ** (a_ebv * cat[\"ebv\"] / 2.5)"
   ]
  },
  {
   "cell_type": "markdown",
   "id": "065050f7-80a5-4127-8d00-89774a734a19",
   "metadata": {},
   "source": [
    "### 4. Determine shear cuts\n",
    "\n",
    "Using cuts from Table 4 of https://arxiv.org/pdf/1705.06745"
   ]
  },
  {
   "cell_type": "code",
   "execution_count": null,
   "id": "382e8f22-b945-4862-9004-563cf62e8b33",
   "metadata": {
    "execution": {
     "iopub.execute_input": "2025-07-02T23:45:56.040780Z",
     "iopub.status.busy": "2025-07-02T23:45:56.040507Z",
     "iopub.status.idle": "2025-07-02T23:45:56.092997Z",
     "shell.execute_reply": "2025-07-02T23:45:56.092318Z",
     "shell.execute_reply.started": "2025-07-02T23:45:56.040760Z"
    }
   },
   "outputs": [],
   "source": [
    "# For shear sample\n",
    "e = np.sqrt(cat[\"i_hsmShapeRegauss_e1\"] ** 2 + cat[\"i_hsmShapeRegauss_e2\"] ** 2)\n",
    "R2 = 1 - (cat[\"i_ixxPSF\"] + cat[\"i_iyyPSF\"]) / (cat[\"i_ixx\"] + cat[\"i_iyy\"])\n",
    "\n",
    "shear_cut = (\n",
    "    (e < 2)  # Remove spurious shapes\n",
    "    & (cat[\"i_hsmShapeRegauss_sigma\"] <= 0.4)  # Shape uncertainty not too high\n",
    "    & (cat[\"i_hsmShapeRegauss_flag\"] == 0)  # Shape measurement succeeded\n",
    "    & (cat[\"i_blendedness\"] < 0.42)  # Object not too blended\n",
    "    & (cat[\"i_iPSF_flag\"] == 0)  # Successfully measured moments of PSF\n",
    "    & (R2 >= 0.3)  # Galaxy sufficiently resolved (removes small artifacts)\n",
    ")\n",
    "cat[\"use_shear\"] = shear_cut.data\n",
    "\n",
    "# Estimate shear from shapes\n",
    "R = 0.85  # Shear responsivity for HSM Regaussianization; typical value from HSC\n",
    "cat[\"shear_g1\"] = cat[\"i_hsmShapeRegauss_e1\"] / (2 * R)\n",
    "cat[\"shear_g2\"] = cat[\"i_hsmShapeRegauss_e2\"] / (2 * R)\n",
    "\n",
    "# Save info related to shear uncertainties\n",
    "i_snr = cat[\"i_cModelFlux\"] / cat[\"i_cModelFluxErr\"]\n",
    "shape_noise = 0.264 * (i_snr / 20) ** -0.891 * (R2 / 0.5) ** -1.015\n",
    "measurement_err = 0.4\n",
    "cat[\"shear_err\"] = np.sqrt(shape_noise**2 + measurement_err**2)"
   ]
  },
  {
   "cell_type": "markdown",
   "id": "85429fdd-c4ee-49cf-b1bf-d2743a0e74b0",
   "metadata": {},
   "source": [
    "### 5. Cross-match with photo-z's"
   ]
  },
  {
   "cell_type": "code",
   "execution_count": null,
   "id": "c588e485-fc69-4a69-85ee-cdecd9b7f9b6",
   "metadata": {
    "execution": {
     "iopub.execute_input": "2025-07-02T23:45:57.974114Z",
     "iopub.status.busy": "2025-07-02T23:45:57.973509Z",
     "iopub.status.idle": "2025-07-02T23:45:58.237384Z",
     "shell.execute_reply": "2025-07-02T23:45:58.236809Z",
     "shell.execute_reply.started": "2025-07-02T23:45:57.974094Z"
    }
   },
   "outputs": [],
   "source": [
    "pz = Table.read(\"dp1_photoz_no_mags.parquet\")"
   ]
  },
  {
   "cell_type": "code",
   "execution_count": null,
   "id": "0afe812d-0a4b-4c2a-96fe-9da61718df9d",
   "metadata": {
    "execution": {
     "iopub.execute_input": "2025-07-02T23:45:59.215203Z",
     "iopub.status.busy": "2025-07-02T23:45:59.214927Z",
     "iopub.status.idle": "2025-07-02T23:46:00.145519Z",
     "shell.execute_reply": "2025-07-02T23:46:00.144831Z",
     "shell.execute_reply.started": "2025-07-02T23:45:59.215183Z"
    }
   },
   "outputs": [],
   "source": [
    "combined = join(cat, pz, keys_left=\"objectID\", keys_right=\"objectId\")"
   ]
  },
  {
   "cell_type": "code",
   "execution_count": null,
   "id": "f4906ddc-5e33-42ba-8f93-03cb77e77adf",
   "metadata": {
    "execution": {
     "iopub.execute_input": "2025-07-02T23:46:06.038732Z",
     "iopub.status.busy": "2025-07-02T23:46:06.038127Z",
     "iopub.status.idle": "2025-07-02T23:46:11.651642Z",
     "shell.execute_reply": "2025-07-02T23:46:11.651016Z",
     "shell.execute_reply.started": "2025-07-02T23:46:06.038710Z"
    }
   },
   "outputs": [],
   "source": [
    "combined.write(\"dp1_with_photoz_v2.fits\")"
   ]
  },
  {
   "cell_type": "code",
   "execution_count": null,
   "id": "f18bd318-ba34-42de-ae5a-9509145ad6fa",
   "metadata": {
    "execution": {
     "iopub.execute_input": "2025-07-02T20:11:40.072024Z",
     "iopub.status.busy": "2025-07-02T20:11:40.071782Z",
     "iopub.status.idle": "2025-07-02T20:11:40.100789Z",
     "shell.execute_reply": "2025-07-02T20:11:40.100315Z",
     "shell.execute_reply.started": "2025-07-02T20:11:40.072009Z"
    }
   },
   "outputs": [],
   "source": [
    "cat"
   ]
  }
 ],
 "metadata": {
  "kernelspec": {
   "display_name": "LSST",
   "language": "python",
   "name": "lsst"
  },
  "language_info": {
   "codemirror_mode": {
    "name": "ipython",
    "version": 3
   },
   "file_extension": ".py",
   "mimetype": "text/x-python",
   "name": "python",
   "nbconvert_exporter": "python",
   "pygments_lexer": "ipython3",
   "version": "3.12.11"
  }
 },
 "nbformat": 4,
 "nbformat_minor": 5
}
